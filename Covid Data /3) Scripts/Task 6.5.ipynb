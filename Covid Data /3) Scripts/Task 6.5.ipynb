{
 "cells": [
  {
   "cell_type": "markdown",
   "id": "db845cda",
   "metadata": {},
   "source": [
    "# K-cluster Algorithm Analysis"
   ]
  },
  {
   "cell_type": "markdown",
   "id": "83521aa5",
   "metadata": {},
   "source": [
    "In this script, our objective is to apply unsupervised machine learning to uncover new patterns within the dataset. We will utilize the K-means clustering algorithm to identify distinct clusters and gain insights into their characteristics"
   ]
  },
  {
   "cell_type": "code",
   "execution_count": 3,
   "id": "aebc30d0",
   "metadata": {},
   "outputs": [],
   "source": [
    "import pandas as pd\n",
    "import numpy as np\n",
    "import seaborn as sns\n",
    "import matplotlib\n",
    "import matplotlib.pyplot as plt\n",
    "import os\n",
    "import sklearn\n",
    "from sklearn.cluster import KMeans # Here is where you import the k-means algorithm from scikit-learn\n",
    "import pylab as pl # PyLab is a convenience module that bulk imports matplotlib"
   ]
  },
  {
   "cell_type": "code",
   "execution_count": 4,
   "id": "52f1f137",
   "metadata": {},
   "outputs": [],
   "source": [
    "# This option ensures the graphs you create are displayed in your notebook without the need to \\\"call\\\" them specifically\n",
    "%matplotlib inline"
   ]
  },
  {
   "cell_type": "code",
   "execution_count": 5,
   "id": "37664a20",
   "metadata": {},
   "outputs": [],
   "source": [
    "#import the dataset for Covid Pattern,\n",
    "path = r'C:\\Users\\Home\\Desktop\\Task 6.1'\n",
    "Covid_data = pd.read_csv(os.path.join(path, 'Data', 'Prepared data', 'Covid_data.csv'))"
   ]
  },
  {
   "cell_type": "markdown",
   "id": "aedae2d2",
   "metadata": {},
   "source": [
    "### Data Cleaning"
   ]
  },
  {
   "cell_type": "code",
   "execution_count": 6,
   "id": "4d362c9a",
   "metadata": {},
   "outputs": [
    {
     "data": {
      "text/html": [
       "<div>\n",
       "<style scoped>\n",
       "    .dataframe tbody tr th:only-of-type {\n",
       "        vertical-align: middle;\n",
       "    }\n",
       "\n",
       "    .dataframe tbody tr th {\n",
       "        vertical-align: top;\n",
       "    }\n",
       "\n",
       "    .dataframe thead th {\n",
       "        text-align: right;\n",
       "    }\n",
       "</style>\n",
       "<table border=\"1\" class=\"dataframe\">\n",
       "  <thead>\n",
       "    <tr style=\"text-align: right;\">\n",
       "      <th></th>\n",
       "      <th>Unnamed: 0</th>\n",
       "      <th>Country</th>\n",
       "      <th>Continent</th>\n",
       "      <th>Population</th>\n",
       "      <th>Total Cases</th>\n",
       "      <th>Total Deaths</th>\n",
       "      <th>Total Recovered</th>\n",
       "      <th>Active Cases</th>\n",
       "      <th>Critical Cases</th>\n",
       "      <th>Tot Cases/1M pop</th>\n",
       "      <th>Deaths/1M pop</th>\n",
       "      <th>Total Tests</th>\n",
       "      <th>Tests/1M pop</th>\n",
       "    </tr>\n",
       "  </thead>\n",
       "  <tbody>\n",
       "    <tr>\n",
       "      <th>0</th>\n",
       "      <td>0</td>\n",
       "      <td>USA</td>\n",
       "      <td>North America</td>\n",
       "      <td>331198130</td>\n",
       "      <td>5032179</td>\n",
       "      <td>162804</td>\n",
       "      <td>2576668</td>\n",
       "      <td>2292707</td>\n",
       "      <td>18296</td>\n",
       "      <td>15194</td>\n",
       "      <td>492.0</td>\n",
       "      <td>63139605</td>\n",
       "      <td>190640</td>\n",
       "    </tr>\n",
       "    <tr>\n",
       "      <th>1</th>\n",
       "      <td>1</td>\n",
       "      <td>Brazil</td>\n",
       "      <td>South America</td>\n",
       "      <td>212710692</td>\n",
       "      <td>2917562</td>\n",
       "      <td>98644</td>\n",
       "      <td>2047660</td>\n",
       "      <td>771258</td>\n",
       "      <td>8318</td>\n",
       "      <td>13716</td>\n",
       "      <td>464.0</td>\n",
       "      <td>13206188</td>\n",
       "      <td>62085</td>\n",
       "    </tr>\n",
       "    <tr>\n",
       "      <th>2</th>\n",
       "      <td>2</td>\n",
       "      <td>India</td>\n",
       "      <td>Asia</td>\n",
       "      <td>1381344997</td>\n",
       "      <td>2025409</td>\n",
       "      <td>41638</td>\n",
       "      <td>1377384</td>\n",
       "      <td>606387</td>\n",
       "      <td>8944</td>\n",
       "      <td>1466</td>\n",
       "      <td>30.0</td>\n",
       "      <td>22149351</td>\n",
       "      <td>16035</td>\n",
       "    </tr>\n",
       "    <tr>\n",
       "      <th>3</th>\n",
       "      <td>3</td>\n",
       "      <td>Russia</td>\n",
       "      <td>Europe</td>\n",
       "      <td>145940924</td>\n",
       "      <td>871894</td>\n",
       "      <td>14606</td>\n",
       "      <td>676357</td>\n",
       "      <td>180931</td>\n",
       "      <td>2300</td>\n",
       "      <td>5974</td>\n",
       "      <td>100.0</td>\n",
       "      <td>29716907</td>\n",
       "      <td>203623</td>\n",
       "    </tr>\n",
       "    <tr>\n",
       "      <th>4</th>\n",
       "      <td>4</td>\n",
       "      <td>South Africa</td>\n",
       "      <td>Africa</td>\n",
       "      <td>59381566</td>\n",
       "      <td>538184</td>\n",
       "      <td>9604</td>\n",
       "      <td>387316</td>\n",
       "      <td>141264</td>\n",
       "      <td>539</td>\n",
       "      <td>9063</td>\n",
       "      <td>162.0</td>\n",
       "      <td>3149807</td>\n",
       "      <td>53044</td>\n",
       "    </tr>\n",
       "  </tbody>\n",
       "</table>\n",
       "</div>"
      ],
      "text/plain": [
       "   Unnamed: 0       Country      Continent  Population  Total Cases  \\\n",
       "0           0           USA  North America   331198130      5032179   \n",
       "1           1        Brazil  South America   212710692      2917562   \n",
       "2           2         India           Asia  1381344997      2025409   \n",
       "3           3        Russia         Europe   145940924       871894   \n",
       "4           4  South Africa         Africa    59381566       538184   \n",
       "\n",
       "   Total Deaths  Total Recovered  Active Cases  Critical Cases  \\\n",
       "0        162804          2576668       2292707           18296   \n",
       "1         98644          2047660        771258            8318   \n",
       "2         41638          1377384        606387            8944   \n",
       "3         14606           676357        180931            2300   \n",
       "4          9604           387316        141264             539   \n",
       "\n",
       "   Tot Cases/1M pop  Deaths/1M pop  Total Tests  Tests/1M pop  \n",
       "0             15194          492.0     63139605        190640  \n",
       "1             13716          464.0     13206188         62085  \n",
       "2              1466           30.0     22149351         16035  \n",
       "3              5974          100.0     29716907        203623  \n",
       "4              9063          162.0      3149807         53044  "
      ]
     },
     "execution_count": 6,
     "metadata": {},
     "output_type": "execute_result"
    }
   ],
   "source": [
    "Covid_data.head()"
   ]
  },
  {
   "cell_type": "code",
   "execution_count": 7,
   "id": "590d7a2d",
   "metadata": {},
   "outputs": [],
   "source": [
    "# Dropping unneeded columns and creating data subset\n",
    "Covid_Data = Covid_data.drop(['Unnamed: 0','Continent','Country'], axis = 1)"
   ]
  },
  {
   "cell_type": "markdown",
   "id": "c6768273",
   "metadata": {},
   "source": [
    "### Find the Elbow"
   ]
  },
  {
   "cell_type": "code",
   "execution_count": 8,
   "id": "b0eb44ba",
   "metadata": {},
   "outputs": [],
   "source": [
    "num_cl = range(1, 10) # Defines the range of potential clusters in the data\n",
    "kmeans = [KMeans(n_clusters=i) for i in num_cl] # Defines k-means clusters in the range assigned above."
   ]
  },
  {
   "cell_type": "code",
   "execution_count": 9,
   "id": "a0cdb733",
   "metadata": {},
   "outputs": [
    {
     "name": "stderr",
     "output_type": "stream",
     "text": [
      "C:\\Users\\Home\\anaconda3\\Lib\\site-packages\\sklearn\\cluster\\_kmeans.py:1412: FutureWarning: The default value of `n_init` will change from 10 to 'auto' in 1.4. Set the value of `n_init` explicitly to suppress the warning\n",
      "  super()._check_params_vs_input(X, default_n_init=10)\n",
      "C:\\Users\\Home\\anaconda3\\Lib\\site-packages\\sklearn\\cluster\\_kmeans.py:1436: UserWarning: KMeans is known to have a memory leak on Windows with MKL, when there are less chunks than available threads. You can avoid it by setting the environment variable OMP_NUM_THREADS=1.\n",
      "  warnings.warn(\n",
      "C:\\Users\\Home\\anaconda3\\Lib\\site-packages\\sklearn\\cluster\\_kmeans.py:1412: FutureWarning: The default value of `n_init` will change from 10 to 'auto' in 1.4. Set the value of `n_init` explicitly to suppress the warning\n",
      "  super()._check_params_vs_input(X, default_n_init=10)\n",
      "C:\\Users\\Home\\anaconda3\\Lib\\site-packages\\sklearn\\cluster\\_kmeans.py:1436: UserWarning: KMeans is known to have a memory leak on Windows with MKL, when there are less chunks than available threads. You can avoid it by setting the environment variable OMP_NUM_THREADS=1.\n",
      "  warnings.warn(\n",
      "C:\\Users\\Home\\anaconda3\\Lib\\site-packages\\sklearn\\cluster\\_kmeans.py:1412: FutureWarning: The default value of `n_init` will change from 10 to 'auto' in 1.4. Set the value of `n_init` explicitly to suppress the warning\n",
      "  super()._check_params_vs_input(X, default_n_init=10)\n",
      "C:\\Users\\Home\\anaconda3\\Lib\\site-packages\\sklearn\\cluster\\_kmeans.py:1436: UserWarning: KMeans is known to have a memory leak on Windows with MKL, when there are less chunks than available threads. You can avoid it by setting the environment variable OMP_NUM_THREADS=1.\n",
      "  warnings.warn(\n",
      "C:\\Users\\Home\\anaconda3\\Lib\\site-packages\\sklearn\\cluster\\_kmeans.py:1412: FutureWarning: The default value of `n_init` will change from 10 to 'auto' in 1.4. Set the value of `n_init` explicitly to suppress the warning\n",
      "  super()._check_params_vs_input(X, default_n_init=10)\n",
      "C:\\Users\\Home\\anaconda3\\Lib\\site-packages\\sklearn\\cluster\\_kmeans.py:1436: UserWarning: KMeans is known to have a memory leak on Windows with MKL, when there are less chunks than available threads. You can avoid it by setting the environment variable OMP_NUM_THREADS=1.\n",
      "  warnings.warn(\n",
      "C:\\Users\\Home\\anaconda3\\Lib\\site-packages\\sklearn\\cluster\\_kmeans.py:1412: FutureWarning: The default value of `n_init` will change from 10 to 'auto' in 1.4. Set the value of `n_init` explicitly to suppress the warning\n",
      "  super()._check_params_vs_input(X, default_n_init=10)\n",
      "C:\\Users\\Home\\anaconda3\\Lib\\site-packages\\sklearn\\cluster\\_kmeans.py:1436: UserWarning: KMeans is known to have a memory leak on Windows with MKL, when there are less chunks than available threads. You can avoid it by setting the environment variable OMP_NUM_THREADS=1.\n",
      "  warnings.warn(\n",
      "C:\\Users\\Home\\anaconda3\\Lib\\site-packages\\sklearn\\cluster\\_kmeans.py:1412: FutureWarning: The default value of `n_init` will change from 10 to 'auto' in 1.4. Set the value of `n_init` explicitly to suppress the warning\n",
      "  super()._check_params_vs_input(X, default_n_init=10)\n",
      "C:\\Users\\Home\\anaconda3\\Lib\\site-packages\\sklearn\\cluster\\_kmeans.py:1436: UserWarning: KMeans is known to have a memory leak on Windows with MKL, when there are less chunks than available threads. You can avoid it by setting the environment variable OMP_NUM_THREADS=1.\n",
      "  warnings.warn(\n",
      "C:\\Users\\Home\\anaconda3\\Lib\\site-packages\\sklearn\\cluster\\_kmeans.py:1412: FutureWarning: The default value of `n_init` will change from 10 to 'auto' in 1.4. Set the value of `n_init` explicitly to suppress the warning\n",
      "  super()._check_params_vs_input(X, default_n_init=10)\n",
      "C:\\Users\\Home\\anaconda3\\Lib\\site-packages\\sklearn\\cluster\\_kmeans.py:1436: UserWarning: KMeans is known to have a memory leak on Windows with MKL, when there are less chunks than available threads. You can avoid it by setting the environment variable OMP_NUM_THREADS=1.\n",
      "  warnings.warn(\n",
      "C:\\Users\\Home\\anaconda3\\Lib\\site-packages\\sklearn\\cluster\\_kmeans.py:1412: FutureWarning: The default value of `n_init` will change from 10 to 'auto' in 1.4. Set the value of `n_init` explicitly to suppress the warning\n",
      "  super()._check_params_vs_input(X, default_n_init=10)\n",
      "C:\\Users\\Home\\anaconda3\\Lib\\site-packages\\sklearn\\cluster\\_kmeans.py:1436: UserWarning: KMeans is known to have a memory leak on Windows with MKL, when there are less chunks than available threads. You can avoid it by setting the environment variable OMP_NUM_THREADS=1.\n",
      "  warnings.warn(\n",
      "C:\\Users\\Home\\anaconda3\\Lib\\site-packages\\sklearn\\cluster\\_kmeans.py:1412: FutureWarning: The default value of `n_init` will change from 10 to 'auto' in 1.4. Set the value of `n_init` explicitly to suppress the warning\n",
      "  super()._check_params_vs_input(X, default_n_init=10)\n",
      "C:\\Users\\Home\\anaconda3\\Lib\\site-packages\\sklearn\\cluster\\_kmeans.py:1436: UserWarning: KMeans is known to have a memory leak on Windows with MKL, when there are less chunks than available threads. You can avoid it by setting the environment variable OMP_NUM_THREADS=1.\n",
      "  warnings.warn(\n"
     ]
    }
   ],
   "source": [
    "score = [kmeans[i].fit(Covid_Data).score(Covid_Data) for i in range(len(kmeans))] # Creates a score that represents\n",
    "# a rate of variation for the given cluster option"
   ]
  },
  {
   "cell_type": "code",
   "execution_count": 10,
   "id": "8c44f5c6",
   "metadata": {},
   "outputs": [
    {
     "data": {
      "image/png": "[encoded data removed]",
      "text/plain": [
       "<Figure size 640x480 with 1 Axes>"
      ]
     },
     "metadata": {},
     "output_type": "display_data"
    }
   ],
   "source": [
    "# Plot the elbow curve using PyLab,\n",
    "pl.plot(num_cl,score)\n",
    "pl.xlabel('Number of Clusters')\n",
    "pl.ylabel('Score')\n",
    "pl.title('Elbow Curve')\n",
    "pl.show()"
   ]
  },
  {
   "cell_type": "markdown",
   "id": "c825b962",
   "metadata": {},
   "source": [
    "**_The curve begins to straightens out after three. This means the optimal number of cluster is three._**"
   ]
  },
  {
   "cell_type": "markdown",
   "id": "caaa58fd",
   "metadata": {},
   "source": [
    "### K-means Clustering"
   ]
  },
  {
   "cell_type": "code",
   "execution_count": 13,
   "id": "0a350e8f",
   "metadata": {},
   "outputs": [],
   "source": [
    "# Create the k-means object,\n",
    "kmeans = KMeans(n_init=10,n_clusters = 3)"
   ]
  },
  {
   "cell_type": "code",
   "execution_count": 14,
   "id": "878b07bb",
   "metadata": {},
   "outputs": [
    {
     "name": "stderr",
     "output_type": "stream",
     "text": [
      "C:\\Users\\Home\\anaconda3\\Lib\\site-packages\\sklearn\\cluster\\_kmeans.py:1436: UserWarning: KMeans is known to have a memory leak on Windows with MKL, when there are less chunks than available threads. You can avoid it by setting the environment variable OMP_NUM_THREADS=1.\n",
      "  warnings.warn(\n"
     ]
    },
    {
     "data": {
      "text/html": [
       "<style>#sk-container-id-1 {color: black;}#sk-container-id-1 pre{padding: 0;}#sk-container-id-1 div.sk-toggleable {background-color: white;}#sk-container-id-1 label.sk-toggleable__label {cursor: pointer;display: block;width: 100%;margin-bottom: 0;padding: 0.3em;box-sizing: border-box;text-align: center;}#sk-container-id-1 label.sk-toggleable__label-arrow:before {content: \"▸\";float: left;margin-right: 0.25em;color: #696969;}#sk-container-id-1 label.sk-toggleable__label-arrow:hover:before {color: black;}#sk-container-id-1 div.sk-estimator:hover label.sk-toggleable__label-arrow:before {color: black;}#sk-container-id-1 div.sk-toggleable__content {max-height: 0;max-width: 0;overflow: hidden;text-align: left;background-color: #f0f8ff;}#sk-container-id-1 div.sk-toggleable__content pre {margin: 0.2em;color: black;border-radius: 0.25em;background-color: #f0f8ff;}#sk-container-id-1 input.sk-toggleable__control:checked~div.sk-toggleable__content {max-height: 200px;max-width: 100%;overflow: auto;}#sk-container-id-1 input.sk-toggleable__control:checked~label.sk-toggleable__label-arrow:before {content: \"▾\";}#sk-container-id-1 div.sk-estimator input.sk-toggleable__control:checked~label.sk-toggleable__label {background-color: #d4ebff;}#sk-container-id-1 div.sk-label input.sk-toggleable__control:checked~label.sk-toggleable__label {background-color: #d4ebff;}#sk-container-id-1 input.sk-hidden--visually {border: 0;clip: rect(1px 1px 1px 1px);clip: rect(1px, 1px, 1px, 1px);height: 1px;margin: -1px;overflow: hidden;padding: 0;position: absolute;width: 1px;}#sk-container-id-1 div.sk-estimator {font-family: monospace;background-color: #f0f8ff;border: 1px dotted black;border-radius: 0.25em;box-sizing: border-box;margin-bottom: 0.5em;}#sk-container-id-1 div.sk-estimator:hover {background-color: #d4ebff;}#sk-container-id-1 div.sk-parallel-item::after {content: \"\";width: 100%;border-bottom: 1px solid gray;flex-grow: 1;}#sk-container-id-1 div.sk-label:hover label.sk-toggleable__label {background-color: #d4ebff;}#sk-container-id-1 div.sk-serial::before {content: \"\";position: absolute;border-left: 1px solid gray;box-sizing: border-box;top: 0;bottom: 0;left: 50%;z-index: 0;}#sk-container-id-1 div.sk-serial {display: flex;flex-direction: column;align-items: center;background-color: white;padding-right: 0.2em;padding-left: 0.2em;position: relative;}#sk-container-id-1 div.sk-item {position: relative;z-index: 1;}#sk-container-id-1 div.sk-parallel {display: flex;align-items: stretch;justify-content: center;background-color: white;position: relative;}#sk-container-id-1 div.sk-item::before, #sk-container-id-1 div.sk-parallel-item::before {content: \"\";position: absolute;border-left: 1px solid gray;box-sizing: border-box;top: 0;bottom: 0;left: 50%;z-index: -1;}#sk-container-id-1 div.sk-parallel-item {display: flex;flex-direction: column;z-index: 1;position: relative;background-color: white;}#sk-container-id-1 div.sk-parallel-item:first-child::after {align-self: flex-end;width: 50%;}#sk-container-id-1 div.sk-parallel-item:last-child::after {align-self: flex-start;width: 50%;}#sk-container-id-1 div.sk-parallel-item:only-child::after {width: 0;}#sk-container-id-1 div.sk-dashed-wrapped {border: 1px dashed gray;margin: 0 0.4em 0.5em 0.4em;box-sizing: border-box;padding-bottom: 0.4em;background-color: white;}#sk-container-id-1 div.sk-label label {font-family: monospace;font-weight: bold;display: inline-block;line-height: 1.2em;}#sk-container-id-1 div.sk-label-container {text-align: center;}#sk-container-id-1 div.sk-container {/* jupyter's `normalize.less` sets `[hidden] { display: none; }` but bootstrap.min.css set `[hidden] { display: none !important; }` so we also need the `!important` here to be able to override the default hidden behavior on the sphinx rendered scikit-learn.org. See: https://github.com/scikit-learn/scikit-learn/issues/21755 */display: inline-block !important;position: relative;}#sk-container-id-1 div.sk-text-repr-fallback {display: none;}</style><div id=\"sk-container-id-1\" class=\"sk-top-container\"><div class=\"sk-text-repr-fallback\"><pre>KMeans(n_clusters=3, n_init=10)</pre><b>In a Jupyter environment, please rerun this cell to show the HTML representation or trust the notebook. <br />On GitHub, the HTML representation is unable to render, please try loading this page with nbviewer.org.</b></div><div class=\"sk-container\" hidden><div class=\"sk-item\"><div class=\"sk-estimator sk-toggleable\"><input class=\"sk-toggleable__control sk-hidden--visually\" id=\"sk-estimator-id-1\" type=\"checkbox\" checked><label for=\"sk-estimator-id-1\" class=\"sk-toggleable__label sk-toggleable__label-arrow\">KMeans</label><div class=\"sk-toggleable__content\"><pre>KMeans(n_clusters=3, n_init=10)</pre></div></div></div></div></div>"
      ],
      "text/plain": [
       "KMeans(n_clusters=3, n_init=10)"
      ]
     },
     "execution_count": 14,
     "metadata": {},
     "output_type": "execute_result"
    }
   ],
   "source": [
    "# Fit the k-means object to the data,\n",
    "kmeans.fit(Covid_Data)"
   ]
  },
  {
   "cell_type": "code",
   "execution_count": 15,
   "id": "0d4dfe53",
   "metadata": {},
   "outputs": [
    {
     "name": "stderr",
     "output_type": "stream",
     "text": [
      "C:\\Users\\Home\\anaconda3\\Lib\\site-packages\\sklearn\\cluster\\_kmeans.py:1436: UserWarning: KMeans is known to have a memory leak on Windows with MKL, when there are less chunks than available threads. You can avoid it by setting the environment variable OMP_NUM_THREADS=1.\n",
      "  warnings.warn(\n"
     ]
    }
   ],
   "source": [
    "Covid_Data['clusters'] = kmeans.fit_predict(Covid_Data) #adding clusters column to a dataframe"
   ]
  },
  {
   "cell_type": "code",
   "execution_count": 16,
   "id": "8730812a",
   "metadata": {},
   "outputs": [
    {
     "data": {
      "text/html": [
       "<div>\n",
       "<style scoped>\n",
       "    .dataframe tbody tr th:only-of-type {\n",
       "        vertical-align: middle;\n",
       "    }\n",
       "\n",
       "    .dataframe tbody tr th {\n",
       "        vertical-align: top;\n",
       "    }\n",
       "\n",
       "    .dataframe thead th {\n",
       "        text-align: right;\n",
       "    }\n",
       "</style>\n",
       "<table border=\"1\" class=\"dataframe\">\n",
       "  <thead>\n",
       "    <tr style=\"text-align: right;\">\n",
       "      <th></th>\n",
       "      <th>Population</th>\n",
       "      <th>Total Cases</th>\n",
       "      <th>Total Deaths</th>\n",
       "      <th>Total Recovered</th>\n",
       "      <th>Active Cases</th>\n",
       "      <th>Critical Cases</th>\n",
       "      <th>Tot Cases/1M pop</th>\n",
       "      <th>Deaths/1M pop</th>\n",
       "      <th>Total Tests</th>\n",
       "      <th>Tests/1M pop</th>\n",
       "      <th>clusters</th>\n",
       "    </tr>\n",
       "  </thead>\n",
       "  <tbody>\n",
       "    <tr>\n",
       "      <th>0</th>\n",
       "      <td>331198130</td>\n",
       "      <td>5032179</td>\n",
       "      <td>162804</td>\n",
       "      <td>2576668</td>\n",
       "      <td>2292707</td>\n",
       "      <td>18296</td>\n",
       "      <td>15194</td>\n",
       "      <td>492.0</td>\n",
       "      <td>63139605</td>\n",
       "      <td>190640</td>\n",
       "      <td>2</td>\n",
       "    </tr>\n",
       "    <tr>\n",
       "      <th>1</th>\n",
       "      <td>212710692</td>\n",
       "      <td>2917562</td>\n",
       "      <td>98644</td>\n",
       "      <td>2047660</td>\n",
       "      <td>771258</td>\n",
       "      <td>8318</td>\n",
       "      <td>13716</td>\n",
       "      <td>464.0</td>\n",
       "      <td>13206188</td>\n",
       "      <td>62085</td>\n",
       "      <td>2</td>\n",
       "    </tr>\n",
       "    <tr>\n",
       "      <th>2</th>\n",
       "      <td>1381344997</td>\n",
       "      <td>2025409</td>\n",
       "      <td>41638</td>\n",
       "      <td>1377384</td>\n",
       "      <td>606387</td>\n",
       "      <td>8944</td>\n",
       "      <td>1466</td>\n",
       "      <td>30.0</td>\n",
       "      <td>22149351</td>\n",
       "      <td>16035</td>\n",
       "      <td>1</td>\n",
       "    </tr>\n",
       "    <tr>\n",
       "      <th>3</th>\n",
       "      <td>145940924</td>\n",
       "      <td>871894</td>\n",
       "      <td>14606</td>\n",
       "      <td>676357</td>\n",
       "      <td>180931</td>\n",
       "      <td>2300</td>\n",
       "      <td>5974</td>\n",
       "      <td>100.0</td>\n",
       "      <td>29716907</td>\n",
       "      <td>203623</td>\n",
       "      <td>2</td>\n",
       "    </tr>\n",
       "    <tr>\n",
       "      <th>4</th>\n",
       "      <td>59381566</td>\n",
       "      <td>538184</td>\n",
       "      <td>9604</td>\n",
       "      <td>387316</td>\n",
       "      <td>141264</td>\n",
       "      <td>539</td>\n",
       "      <td>9063</td>\n",
       "      <td>162.0</td>\n",
       "      <td>3149807</td>\n",
       "      <td>53044</td>\n",
       "      <td>0</td>\n",
       "    </tr>\n",
       "  </tbody>\n",
       "</table>\n",
       "</div>"
      ],
      "text/plain": [
       "   Population  Total Cases  Total Deaths  Total Recovered  Active Cases  \\\n",
       "0   331198130      5032179        162804          2576668       2292707   \n",
       "1   212710692      2917562         98644          2047660        771258   \n",
       "2  1381344997      2025409         41638          1377384        606387   \n",
       "3   145940924       871894         14606           676357        180931   \n",
       "4    59381566       538184          9604           387316        141264   \n",
       "\n",
       "   Critical Cases  Tot Cases/1M pop  Deaths/1M pop  Total Tests  Tests/1M pop  \\\n",
       "0           18296             15194          492.0     63139605        190640   \n",
       "1            8318             13716          464.0     13206188         62085   \n",
       "2            8944              1466           30.0     22149351         16035   \n",
       "3            2300              5974          100.0     29716907        203623   \n",
       "4             539              9063          162.0      3149807         53044   \n",
       "\n",
       "   clusters  \n",
       "0         2  \n",
       "1         2  \n",
       "2         1  \n",
       "3         2  \n",
       "4         0  "
      ]
     },
     "execution_count": 16,
     "metadata": {},
     "output_type": "execute_result"
    }
   ],
   "source": [
    "Covid_Data.head()"
   ]
  },
  {
   "cell_type": "code",
   "execution_count": 17,
   "id": "660dfbc6",
   "metadata": {},
   "outputs": [
    {
     "data": {
      "text/plain": [
       "clusters\n",
       "0    194\n",
       "2     13\n",
       "1      1\n",
       "Name: count, dtype: int64"
      ]
     },
     "execution_count": 17,
     "metadata": {},
     "output_type": "execute_result"
    }
   ],
   "source": [
    "Covid_Data['clusters'].value_counts()"
   ]
  },
  {
   "cell_type": "markdown",
   "id": "04ad83b2",
   "metadata": {},
   "source": [
    "### Population vs Total Cases"
   ]
  },
  {
   "cell_type": "code",
   "execution_count": 18,
   "id": "86f19fc9",
   "metadata": {},
   "outputs": [
    {
     "data": {
      "image/png": "[encoded data removed]",
      "text/plain": [
       "<Figure size 1200x800 with 1 Axes>"
      ]
     },
     "metadata": {},
     "output_type": "display_data"
    }
   ],
   "source": [
    "# Plot the clusters for the \\\"Population\\\" and \\\"Total Cases\\\" variables\n",
    "plt.figure(figsize=(12,8))\n",
    "ax = sns.scatterplot(x=Covid_Data['Population'], y=Covid_Data['Total Cases'], hue=kmeans.labels_, s=100)\n",
    "ax.grid(False) # This removes the grid from the background.\n",
    "plt.xlabel('Population') # Label x-axis.\n",
    "plt.ylabel('Total Cases') # Label y-axis.\n",
    "plt.show()"
   ]
  },
  {
   "cell_type": "code",
   "execution_count": 21,
   "id": "5b15ed4a",
   "metadata": {},
   "outputs": [],
   "source": [
    "#exporting the visual\n",
    "ax.figure.savefig(os.path.join(path, '4) Analysis','Visualizations', 'Covid_cluster.png'))"
   ]
  },
  {
   "cell_type": "markdown",
   "id": "69d92082",
   "metadata": {},
   "source": [
    "### Total Cases vs Total Deaths"
   ]
  },
  {
   "cell_type": "code",
   "execution_count": 22,
   "id": "9c6e74fe",
   "metadata": {},
   "outputs": [
    {
     "data": {
      "image/png": "[encoded data removed]",
      "text/plain": [
       "<Figure size 1200x800 with 1 Axes>"
      ]
     },
     "metadata": {},
     "output_type": "display_data"
    }
   ],
   "source": [
    "# Plot the clusters for the \\\"Total Cases\\\" and \\\"Total Deaths\\\" variables,\n",
    "plt.figure(figsize=(12,8))\n",
    "ax = sns.scatterplot(x=Covid_Data['Total Cases'], y=Covid_Data['Total Deaths'], hue=kmeans.labels_, s=100)\n",
    "ax.grid(False) # This removes the grid from the background\n",
    "plt.xlabel('Total Cases') # Label x-axis\n",
    "plt.ylabel('Total Deaths') # Label y-axis\n",
    "plt.show()"
   ]
  },
  {
   "cell_type": "code",
   "execution_count": 23,
   "id": "c95b4aa3",
   "metadata": {},
   "outputs": [],
   "source": [
    "#exporting the visual\n",
    "ax.figure.savefig(os.path.join(path, '4) Analysis','Visualizations', 'Deaths_cluster.png'))"
   ]
  },
  {
   "cell_type": "markdown",
   "id": "baf88fb7",
   "metadata": {},
   "source": [
    "## Total Cases vs Total Recovered"
   ]
  },
  {
   "cell_type": "code",
   "execution_count": 24,
   "id": "f5a414f6",
   "metadata": {},
   "outputs": [
    {
     "data": {
      "image/png": "[encoded data removed]",
      "text/plain": [
       "<Figure size 1200x800 with 1 Axes>"
      ]
     },
     "metadata": {},
     "output_type": "display_data"
    }
   ],
   "source": [
    "# Plot the clusters for the \\\"Total Cases\\\" and \\\"Total Recovered\\\" variables,\n",
    "plt.figure(figsize=(12,8))\n",
    "ax = sns.scatterplot(x=Covid_Data['Total Cases'], y=Covid_Data['Total Recovered'], hue=kmeans.labels_, s=100)\n",
    "ax.grid(False) # This removes the grid from the background\n",
    "plt.xlabel('Total Cases') # Label x-axis\n",
    "plt.ylabel('Total Recovered') # Label y-axis\n",
    "plt.show()"
   ]
  },
  {
   "cell_type": "code",
   "execution_count": 26,
   "id": "d6e15540",
   "metadata": {},
   "outputs": [],
   "source": [
    "#exporting the visual\n",
    "ax.figure.savefig(os.path.join(path, '4) Analysis','Visualizations', 'recovery_cluster.png'))"
   ]
  },
  {
   "cell_type": "markdown",
   "id": "c0f2aba5",
   "metadata": {},
   "source": [
    "### Key Insights\n",
    "- Both Population and Total Covid Cases in the  data points concentrated between 0.0 and 0.2, suggesting that they have minimal impact and not related much\n",
    "- The clusters for Total Covid Cases, Total Deaths, and Total Recovered all show some similar positive slopes, indicating a positive relationship between them."
   ]
  },
  {
   "cell_type": "markdown",
   "id": "073b8939",
   "metadata": {},
   "source": [
    "### The Descriptive Statistics"
   ]
  },
  {
   "cell_type": "code",
   "execution_count": 24,
   "id": "c183e49a",
   "metadata": {},
   "outputs": [],
   "source": [
    "#rename clusteres,\n",
    "Covid_Data.loc[Covid_Data['clusters'] == 2, 'clusters'] = 'dark purple'\n",
    "Covid_Data.loc[Covid_Data['clusters'] == 1, 'clusters'] = 'purple'\n",
    "Covid_Data.loc[Covid_Data['clusters'] == 0, 'clusters'] = 'pink'"
   ]
  },
  {
   "cell_type": "code",
   "execution_count": 27,
   "id": "a111293a",
   "metadata": {},
   "outputs": [
    {
     "data": {
      "text/html": [
       "<div>\n",
       "<style scoped>\n",
       "    .dataframe tbody tr th:only-of-type {\n",
       "        vertical-align: middle;\n",
       "    }\n",
       "\n",
       "    .dataframe tbody tr th {\n",
       "        vertical-align: top;\n",
       "    }\n",
       "\n",
       "    .dataframe thead tr th {\n",
       "        text-align: left;\n",
       "    }\n",
       "\n",
       "    .dataframe thead tr:last-of-type th {\n",
       "        text-align: right;\n",
       "    }\n",
       "</style>\n",
       "<table border=\"1\" class=\"dataframe\">\n",
       "  <thead>\n",
       "    <tr>\n",
       "      <th></th>\n",
       "      <th colspan=\"2\" halign=\"left\">Population</th>\n",
       "      <th colspan=\"2\" halign=\"left\">Total Cases</th>\n",
       "      <th colspan=\"2\" halign=\"left\">Total Deaths</th>\n",
       "      <th colspan=\"2\" halign=\"left\">Total Recovered</th>\n",
       "      <th colspan=\"2\" halign=\"left\">Active Cases</th>\n",
       "      <th colspan=\"2\" halign=\"left\">Critical Cases</th>\n",
       "    </tr>\n",
       "    <tr>\n",
       "      <th></th>\n",
       "      <th>mean</th>\n",
       "      <th>median</th>\n",
       "      <th>mean</th>\n",
       "      <th>median</th>\n",
       "      <th>mean</th>\n",
       "      <th>median</th>\n",
       "      <th>mean</th>\n",
       "      <th>median</th>\n",
       "      <th>mean</th>\n",
       "      <th>median</th>\n",
       "      <th>mean</th>\n",
       "      <th>median</th>\n",
       "    </tr>\n",
       "    <tr>\n",
       "      <th>clusters</th>\n",
       "      <th></th>\n",
       "      <th></th>\n",
       "      <th></th>\n",
       "      <th></th>\n",
       "      <th></th>\n",
       "      <th></th>\n",
       "      <th></th>\n",
       "      <th></th>\n",
       "      <th></th>\n",
       "      <th></th>\n",
       "      <th></th>\n",
       "      <th></th>\n",
       "    </tr>\n",
       "  </thead>\n",
       "  <tbody>\n",
       "    <tr>\n",
       "      <th>dark purple</th>\n",
       "      <td>1.720617e+08</td>\n",
       "      <td>1.459409e+08</td>\n",
       "      <td>7.890932e+05</td>\n",
       "      <td>119460.0</td>\n",
       "      <td>26989.615385</td>\n",
       "      <td>4951.0</td>\n",
       "      <td>4.824247e+05</td>\n",
       "      <td>75645.0</td>\n",
       "      <td>279678.923077</td>\n",
       "      <td>41157.0</td>\n",
       "      <td>2638.230769</td>\n",
       "      <td>185.0</td>\n",
       "    </tr>\n",
       "    <tr>\n",
       "      <th>pink</th>\n",
       "      <td>1.396018e+07</td>\n",
       "      <td>5.824606e+06</td>\n",
       "      <td>3.548883e+04</td>\n",
       "      <td>3405.0</td>\n",
       "      <td>1652.015464</td>\n",
       "      <td>63.5</td>\n",
       "      <td>1.856330e+04</td>\n",
       "      <td>1461.0</td>\n",
       "      <td>7365.597938</td>\n",
       "      <td>685.0</td>\n",
       "      <td>113.149485</td>\n",
       "      <td>2.0</td>\n",
       "    </tr>\n",
       "    <tr>\n",
       "      <th>purple</th>\n",
       "      <td>1.381345e+09</td>\n",
       "      <td>1.381345e+09</td>\n",
       "      <td>2.025409e+06</td>\n",
       "      <td>2025409.0</td>\n",
       "      <td>41638.000000</td>\n",
       "      <td>41638.0</td>\n",
       "      <td>1.377384e+06</td>\n",
       "      <td>1377384.0</td>\n",
       "      <td>606387.000000</td>\n",
       "      <td>606387.0</td>\n",
       "      <td>8944.000000</td>\n",
       "      <td>8944.0</td>\n",
       "    </tr>\n",
       "  </tbody>\n",
       "</table>\n",
       "</div>"
      ],
      "text/plain": [
       "               Population                 Total Cases             \\\n",
       "                     mean        median          mean     median   \n",
       "clusters                                                           \n",
       "dark purple  1.720617e+08  1.459409e+08  7.890932e+05   119460.0   \n",
       "pink         1.396018e+07  5.824606e+06  3.548883e+04     3405.0   \n",
       "purple       1.381345e+09  1.381345e+09  2.025409e+06  2025409.0   \n",
       "\n",
       "             Total Deaths          Total Recovered              Active Cases  \\\n",
       "                     mean   median            mean     median           mean   \n",
       "clusters                                                                       \n",
       "dark purple  26989.615385   4951.0    4.824247e+05    75645.0  279678.923077   \n",
       "pink          1652.015464     63.5    1.856330e+04     1461.0    7365.597938   \n",
       "purple       41638.000000  41638.0    1.377384e+06  1377384.0  606387.000000   \n",
       "\n",
       "                      Critical Cases          \n",
       "               median           mean  median  \n",
       "clusters                                      \n",
       "dark purple   41157.0    2638.230769   185.0  \n",
       "pink            685.0     113.149485     2.0  \n",
       "purple       606387.0    8944.000000  8944.0  "
      ]
     },
     "execution_count": 27,
     "metadata": {},
     "output_type": "execute_result"
    }
   ],
   "source": [
    "Covid_Data.groupby('clusters').agg({\n",
    "    'Population': ['mean', 'median'],\n",
    "    'Total Cases': ['mean', 'median'],\n",
    "    'Total Deaths': ['mean', 'median'],\n",
    "    'Total Recovered': ['mean', 'median'],\n",
    "    'Active Cases': ['mean', 'median'],\n",
    "    'Critical Cases': ['mean', 'median']\n",
    "})\n"
   ]
  },
  {
   "cell_type": "code",
   "execution_count": 29,
   "id": "9c43bc65",
   "metadata": {},
   "outputs": [],
   "source": [
    "Covid_Data.loc[Covid_Data['clusters'] == 'dark purple', 'clusters'] = 'Mildly Impacted'\n",
    "Covid_Data.loc[Covid_Data['clusters'] == 'purple', 'clusters'] = 'Severely Impacted'\n",
    "Covid_Data.loc[Covid_Data['clusters'] == 'pink', 'clusters'] = 'Less Impacted'"
   ]
  },
  {
   "cell_type": "code",
   "execution_count": 30,
   "id": "11c34451",
   "metadata": {},
   "outputs": [
    {
     "data": {
      "text/plain": [
       "clusters\n",
       "Less Impacted        194\n",
       "Mildly Impacted       13\n",
       "Severely Impacted      1\n",
       "Name: count, dtype: int64"
      ]
     },
     "execution_count": 30,
     "metadata": {},
     "output_type": "execute_result"
    }
   ],
   "source": [
    "Covid_Data['clusters'].value_counts()"
   ]
  },
  {
   "cell_type": "code",
   "execution_count": null,
   "id": "84f610d3",
   "metadata": {},
   "outputs": [],
   "source": []
  }
 ],
 "metadata": {
  "kernelspec": {
   "display_name": "Python 3 (ipykernel)",
   "language": "python",
   "name": "python3"
  },
  "language_info": {
   "codemirror_mode": {
    "name": "ipython",
    "version": 3
   },
   "file_extension": ".py",
   "mimetype": "text/x-python",
   "name": "python",
   "nbconvert_exporter": "python",
   "pygments_lexer": "ipython3",
   "version": "3.11.5"
  }
 },
 "nbformat": 4,
 "nbformat_minor": 5
}
